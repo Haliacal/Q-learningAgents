{
 "cells": [
  {
   "cell_type": "code",
   "execution_count": 15,
   "metadata": {},
   "outputs": [],
   "source": [
    "import gymnasium as gym\n",
    "import matplotlib.pyplot as plt \n",
    "import time\n",
    "import numpy as np\n",
    "from collections import defaultdict\n",
    "import random\n",
    "\n",
    "Q = None"
   ]
  },
  {
   "cell_type": "code",
   "execution_count": 3,
   "metadata": {},
   "outputs": [
    {
     "name": "stdout",
     "output_type": "stream",
     "text": [
      "The observation space: Discrete(16)\n",
      "The action space: Discrete(4)\n"
     ]
    }
   ],
   "source": [
    "# Observation and action space \n",
    "env = gym.make(\"FrozenLake-v1\")\n",
    "obs_space = env.observation_space\n",
    "action_space = env.action_space\n",
    "print(\"The observation space: {}\".format(obs_space))\n",
    "print(\"The action space: {}\".format(action_space))"
   ]
  },
  {
   "cell_type": "code",
   "execution_count": 4,
   "metadata": {},
   "outputs": [],
   "source": [
    "def Q_train(env, alpha=0.45, gamma=0.8, decay_rate=0.001, episodes=1000):\n",
    "\n",
    "    # Q Table\n",
    "    Q = np.zeros((env.observation_space.n, env.action_space.n))\n",
    "\n",
    "    for episode in range(episodes-1):\n",
    "        state, _ = env.reset()\n",
    "        epsilon = np.exp(-decay_rate*episode)\n",
    "        terminated, truncated = False, False\n",
    "\n",
    "        while not terminated and not truncated:\n",
    "            # Explore\n",
    "            if(random.uniform(0,1) < epsilon): action = env.action_space.sample()\n",
    "            \n",
    "            # Exploit\n",
    "            else: action = np.argmax(Q[state,:])\n",
    "\n",
    "            next_state, reward, terminated, truncated, info = env.step(action)\n",
    "            Q[state,action] += alpha*(reward + gamma+(1-int(terminated))*np.max(Q[next_state,:]) - Q[state,action])\n",
    "            \n",
    "            state = next_state\n",
    "\n",
    "    return Q"
   ]
  },
  {
   "cell_type": "code",
   "execution_count": 5,
   "metadata": {},
   "outputs": [],
   "source": [
    "# Calculate success rate out of 1000 games\n",
    "def success_rate(env, q, games = 1000):\n",
    "    wins = 0\n",
    "    for i in range(games):\n",
    "        state, _ = env.reset()\n",
    "        done = False\n",
    "        rewards = 0\n",
    "        while(not done):\n",
    "            action = np.argmax(q[state, :])\n",
    "            state, reward, terminated, truncated, info = env.step(action) \n",
    "            rewards += reward\n",
    "            done = terminated or truncated\n",
    "\n",
    "        if(rewards): wins += 1\n",
    "        \n",
    "\n",
    "    return wins/games"
   ]
  },
  {
   "cell_type": "code",
   "execution_count": 13,
   "metadata": {},
   "outputs": [
    {
     "name": "stdout",
     "output_type": "stream",
     "text": [
      "-- Best parameters -- \n",
      "Alpha:  0.11\n",
      "Gamma:  0.16000000000000003\n",
      "decay:  0.006\n",
      "Success rate:  0.74\n"
     ]
    }
   ],
   "source": [
    "def grid_search(game_name=\"FrozenLake-v1\"):\n",
    "    \n",
    "    env = gym.make(\"FrozenLake-v1\")\n",
    "    \n",
    "    sr = {}\n",
    "    tables = {}\n",
    "\n",
    "    for alpha in np.arange(0.01, 0.99, 0.05):\n",
    "        for gamma in np.arange(0.01, 0.99, 0.05):\n",
    "            for decay_rate in np.arange(0.001, 0.01, 0.005):\n",
    "                table = Q_train(env, alpha, gamma, decay_rate, 5000)\n",
    "                parameters = (alpha,gamma,decay_rate)\n",
    "                tables[parameters] = table\n",
    "                sr[(alpha,gamma,decay_rate)] = success_rate(env,table,100)\n",
    "\n",
    "    alpha, gamma, decay = parameters = max(list(sr.keys()), key=lambda x: sr[x])\n",
    "    \n",
    "    print(\"-- Best parameters -- \")\n",
    "    print(\"Alpha: \", str(alpha))\n",
    "    print(\"Gamma: \", str(gamma))\n",
    "    print(\"decay: \", str(decay))\n",
    "    print(\"Success rate: \", str(sr[parameters]))\n",
    "    return parameters, tables[parameters]\n",
    "    \n",
    "parameters, Q = grid_search()"
   ]
  },
  {
   "cell_type": "code",
   "execution_count": 14,
   "metadata": {},
   "outputs": [],
   "source": [
    "with open(\"frozenQTable.npy\",\"wb\") as f:\n",
    "    np.save(f, Q)"
   ]
  },
  {
   "cell_type": "code",
   "execution_count": 16,
   "metadata": {},
   "outputs": [],
   "source": [
    "with open(\"frozenQTable1000.npy\",\"rb\") as f:\n",
    "    Q = np.load(f)"
   ]
  },
  {
   "cell_type": "code",
   "execution_count": 18,
   "metadata": {},
   "outputs": [
    {
     "name": "stdout",
     "output_type": "stream",
     "text": [
      "Yay !! You got the present\n"
     ]
    }
   ],
   "source": [
    "# watch trained agent\n",
    "env = gym.make(\"FrozenLake-v1\", render_mode='human')\n",
    "\n",
    "state, _ = env.reset()\n",
    "state = state\n",
    "done = False\n",
    "rewards = 0\n",
    "\n",
    "while(not done):\n",
    "    action = np.argmax(Q[state, :])\n",
    "    \n",
    "    state, reward, terminated, truncated, info = env.step(action)\n",
    "    \n",
    "    rewards += reward\n",
    "    \n",
    "    env.render()\n",
    "    \n",
    "    time.sleep(0.01)\n",
    "    done = terminated or truncated\n",
    "\n",
    "if(rewards): print(\"Yay !! You got the present\")\n",
    "else: print(\"You failed -_-\")\n",
    "\n",
    "time.sleep(3)\n",
    "env.close()"
   ]
  }
 ],
 "metadata": {
  "kernelspec": {
   "display_name": "gym",
   "language": "python",
   "name": "python3"
  },
  "language_info": {
   "codemirror_mode": {
    "name": "ipython",
    "version": 3
   },
   "file_extension": ".py",
   "mimetype": "text/x-python",
   "name": "python",
   "nbconvert_exporter": "python",
   "pygments_lexer": "ipython3",
   "version": "3.9.19"
  }
 },
 "nbformat": 4,
 "nbformat_minor": 2
}
