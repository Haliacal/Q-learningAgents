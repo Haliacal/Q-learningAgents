{
 "cells": [
  {
   "cell_type": "code",
   "execution_count": 1,
   "metadata": {
    "id": "h0x-2eDo0BjB"
   },
   "outputs": [],
   "source": [
    "import math\n",
    "import random\n",
    "import numpy as np\n",
    "from collections import deque\n",
    "import time\n",
    "\n",
    "import gymnasium as gym\n",
    "from gymnasium.wrappers import FrameStackObservation as FrameStack\n",
    "from gymnasium.wrappers import AtariPreprocessing\n",
    "from gymnasium.wrappers import NumpyToTorch\n",
    "from gymnasium.wrappers import RecordEpisodeStatistics\n",
    "\n",
    "\n",
    "import matplotlib\n",
    "import matplotlib.pyplot as plt\n",
    "from PIL import Image\n",
    "\n",
    "import torch\n",
    "import torch.nn as nn\n",
    "import torch.optim as optim\n",
    "import torch.nn.functional as F\n",
    "import torchvision.transforms as T\n",
    "from collections import namedtuple, deque\n",
    "from operator import itemgetter\n",
    "\n",
    "import ale_py"
   ]
  },
  {
   "cell_type": "code",
   "execution_count": 15,
   "metadata": {
    "id": "HEGJ7ADy0BjE"
   },
   "outputs": [],
   "source": [
    "# if GPU is to be used\n",
    "device = torch.device(\n",
    "    \"cuda\" if torch.cuda.is_available() else\n",
    "    \"mps\" if torch.backends.mps.is_available() else\n",
    "    \"cpu\"\n",
    ")"
   ]
  },
  {
   "cell_type": "code",
   "execution_count": 16,
   "metadata": {
    "id": "PzlvTaW40BjF"
   },
   "outputs": [],
   "source": [
    "frames_stacked = 4\n",
    "\n",
    "gym.register_envs(ale_py)\n",
    "\n",
    "#game = \"ALE/Breakout-v5\"\n",
    "game = \"ALE/Pong-v5\"\n",
    "\n",
    "terminal_on_life_loss = False\n",
    "scale_obs = True\n",
    "\n",
    "env = NumpyToTorch(FrameStack(AtariPreprocessing(RecordEpisodeStatistics(gym.make(game)), frame_skip=1, terminal_on_life_loss=terminal_on_life_loss, scale_obs=scale_obs), frames_stacked), device=device)\n",
    "\n",
    "num_actions = env.action_space.n\n",
    "frame_shape = env.observation_space.shape"
   ]
  },
  {
   "cell_type": "code",
   "execution_count": 17,
   "metadata": {
    "id": "6U2kTBCA0BjF"
   },
   "outputs": [],
   "source": [
    "class DQN(nn.Module):\n",
    "    def __init__(self, input_shape, num_outputs):\n",
    "        super(DQN, self).__init__()\n",
    "\n",
    "        self.input_shape = input_shape\n",
    "        self.num_outputs = num_outputs\n",
    "\n",
    "        self.conv_layers = nn.Sequential(\n",
    "            nn.Conv2d(self.input_shape[0], 32, kernel_size=8, stride=4),\n",
    "            nn.BatchNorm2d(32),\n",
    "            nn.ReLU(),\n",
    "            nn.Conv2d(32, 64, kernel_size=4, stride=2),\n",
    "            nn.BatchNorm2d(64),\n",
    "            nn.ReLU(),\n",
    "            nn.Conv2d(64, 64, kernel_size=3, stride=1),\n",
    "            nn.BatchNorm2d(64),\n",
    "            nn.ReLU(),\n",
    "        )\n",
    "\n",
    "        conv_output_len = int(np.prod(self.conv_layers(torch.zeros(1, *input_shape)).size()))\n",
    "\n",
    "        self.fc_layers = nn.Sequential(\n",
    "            nn.Linear(conv_output_len,512),\n",
    "            nn.ReLU(),\n",
    "            nn.Linear(512,256),\n",
    "            nn.ReLU(),\n",
    "            nn.Linear(256, self.num_outputs)\n",
    "        )\n",
    "        conv_test = self.conv_layers(torch.zeros(1, *input_shape))\n",
    "\n",
    "    def forward(self, x):\n",
    "\n",
    "        conv_out = self.conv_layers(x)\n",
    "        return self.fc_layers(conv_out.flatten(1))"
   ]
  },
  {
   "cell_type": "code",
   "execution_count": 20,
   "metadata": {
    "id": "thEu_49S0BjF"
   },
   "outputs": [],
   "source": [
    "args = env.reset()\n",
    "state = args[0]\n",
    "input_shape = state.shape"
   ]
  },
  {
   "cell_type": "code",
   "execution_count": 21,
   "metadata": {
    "colab": {
     "base_uri": "https://localhost:8080/",
     "height": 450
    },
    "id": "1VSVKCQL0BjG",
    "outputId": "ab65469d-4e94-4f9f-85b6-90963eb72705"
   },
   "outputs": [
    {
     "data": {
      "text/plain": [
       "<matplotlib.image.AxesImage at 0x7d05067314b0>"
      ]
     },
     "execution_count": 21,
     "metadata": {},
     "output_type": "execute_result"
    },
    {
     "data": {
      "image/png": "[encoded data removed]",
      "text/plain": [
       "<Figure size 640x480 with 1 Axes>"
      ]
     },
     "metadata": {},
     "output_type": "display_data"
    }
   ],
   "source": [
    "for _ in range(10): state, *_ = env.step(1)\n",
    "plt.imshow(state[3].cpu().numpy())"
   ]
  },
  {
   "cell_type": "code",
   "execution_count": 22,
   "metadata": {
    "colab": {
     "base_uri": "https://localhost:8080/"
    },
    "id": "KASJ1IZI0BjH",
    "outputId": "5748aeed-4496-4b1f-b9a2-c43f7c125c8d"
   },
   "outputs": [
    {
     "data": {
      "text/plain": [
       "tensor([[-0.0534, -0.0850, -0.1207, -0.0079, -0.0725, -0.0588]])"
      ]
     },
     "execution_count": 22,
     "metadata": {},
     "output_type": "execute_result"
    }
   ],
   "source": [
    "model = DQN(input_shape=input_shape, num_outputs=num_actions)\n",
    "\n",
    "# Create policy and target network.\n",
    "policy_net = DQN(input_shape=input_shape, num_outputs=num_actions).to(device)\n",
    "target_net = DQN(input_shape=input_shape, num_outputs=num_actions).to(device)\n",
    "\n",
    "target_net.load_state_dict(policy_net.state_dict())\n",
    "\n",
    "with torch.no_grad():\n",
    "    stateValues = policy_net(state.unsqueeze(0))\n",
    "\n",
    "stateValues"
   ]
  },
  {
   "cell_type": "code",
   "execution_count": 23,
   "metadata": {
    "id": "f9AuCwJ20BjH"
   },
   "outputs": [],
   "source": [
    "# Hyperparameters\n",
    "alpha = 1e-4  # learning rate\n",
    "gamma = 0.99 # Discount fator\n",
    "\n",
    "# Optimiser and loss function\n",
    "optimiser = optim.Adam(policy_net.parameters(), lr=alpha, amsgrad=True)"
   ]
  },
  {
   "cell_type": "code",
   "execution_count": null,
   "metadata": {
    "id": "6RI9YS_q0BjH"
   },
   "outputs": [],
   "source": [
    "Transition = namedtuple('Transition', ('state', 'action', 'reward', 'next_state'))\n",
    "class ReplayMemory(object):\n",
    "\n",
    "    def __init__(self, capacity, batchSize):\n",
    "        self.maxCapacity = capacity\n",
    "        self.memory = deque([], maxlen=capacity)\n",
    "        self.batchSize = batchSize\n",
    "\n",
    "    def push(self, state, action, reward, nextState):\n",
    "        self.memory.append(Transition(state, action, reward, nextState))\n",
    "\n",
    "    def sample(self):\n",
    "        return random.sample(self.memory, self.batchSize)\n",
    "\n",
    "    def replay(self):\n",
    "\n",
    "        if(len(self.memory) < self.batchSize): return\n",
    "\n",
    "        minibatch = self.sample()\n",
    "\n",
    "        batch = Transition(*zip(*minibatch))\n",
    "\n",
    "        non_final_mask = torch.tensor(tuple(map(lambda s: s is not None, batch.next_state)), device=device, dtype=torch.bool)\n",
    "\n",
    "        non_final_next_states = torch.cat([s for s in batch.next_state if s is not None]).to(device)\n",
    "        state_batch = torch.cat(batch.state).to(device)\n",
    "        action_batch = torch.cat(batch.action).to(device)\n",
    "        reward_batch = torch.cat(batch.reward).to(device)\n",
    "\n",
    "        next_state_values = torch.zeros(self.batchSize, device=device)\n",
    "\n",
    "        with torch.no_grad():\n",
    "            next_state_values[non_final_mask] = target_net(non_final_next_states).max(1).values\n",
    "\n",
    "\n",
    "        state_action_values = policy_net(state_batch).gather(1, action_batch)\n",
    "\n",
    "\n",
    "\n",
    "        # Compute the expected Q values\n",
    "        expected_state_action_values = (next_state_values*gamma) + reward_batch\n",
    "\n",
    "\n",
    "        # Compute Huber loss\n",
    "        optimiser.zero_grad()\n",
    "        criterion = nn.HuberLoss()\n",
    "        loss = criterion(state_action_values, expected_state_action_values.unsqueeze(1))\n",
    "        #loss.requires_grad = True\n",
    "        loss.backward()\n",
    "        # Register backward hook\n",
    "        for p in policy_net.parameters(): p.grad.data.clamp_(-1, 1)\n",
    "        optimiser.step()\n",
    "\n"
   ]
  },
  {
   "cell_type": "code",
   "execution_count": null,
   "metadata": {
    "id": "53o57oM00BjI"
   },
   "outputs": [],
   "source": [
    "# Replay memory parameters\n",
    "capacity = 100000\n",
    "batchSize = 32\n",
    "memory = ReplayMemory(capacity=capacity, batchSize=batchSize)"
   ]
  },
  {
   "cell_type": "code",
   "execution_count": null,
   "metadata": {
    "collapsed": true,
    "id": "9ydtaTrM0BjI"
   },
   "outputs": [],
   "source": [
    "import os\n",
    "import pickle\n",
    "\n",
    "episodes = 2001\n",
    "verbose = True\n",
    "steps = 0\n",
    "verboseEpisode = 50\n",
    "timesteps = 0\n",
    "updateEvery = 1500\n",
    "\n",
    "EPSILON_START=1.0\n",
    "EPSILON_END=0.02\n",
    "EPSILON_DECAY=10000\n",
    "\n",
    "episodeRewards = []\n",
    "os.makedirs('models', exist_ok=True)\n",
    "stats = {}\n",
    "\n",
    "for episode in range(episodes):\n",
    "  state, _ = env.reset()\n",
    "  rewards = 0\n",
    "  terminated, truncated = False, False\n",
    "  state = state.unsqueeze(0)\n",
    "\n",
    "  while not terminated and not truncated:\n",
    "\n",
    "    epsilon = np.interp(steps, [0, EPSILON_DECAY], [EPSILON_START, EPSILON_END])\n",
    "\n",
    "    # Explore\n",
    "    if(random.uniform(0,1) <= epsilon): action = torch.tensor([[env.action_space.sample()]], device=device)\n",
    "\n",
    "    # Exploit\n",
    "    else:\n",
    "        with torch.no_grad():\n",
    "            q_values = policy_net(state)\n",
    "            action = torch.argmax(policy_net(state), dim=1).unsqueeze(0)\n",
    "\n",
    "    steps += 1\n",
    "\n",
    "    nextState, reward, terminated, truncated, info = env.step(action.item())\n",
    "    nextState = nextState.unsqueeze(0)\n",
    "\n",
    "    if(terminated or truncated):\n",
    "      nextState = None\n",
    "      stats[episode] = info\n",
    "    rewards += reward\n",
    "    memory.push(state, action, torch.tensor([reward], device=device), nextState)\n",
    "\n",
    "\n",
    "    memory.replay()\n",
    "\n",
    "    state = nextState\n",
    "\n",
    "    if(steps%updateEvery == 0): target_net.load_state_dict(policy_net.state_dict())\n",
    "\n",
    "\n",
    "  episodeRewards.append(rewards)\n",
    "  if(verbose and episode%verboseEpisode == 0):\n",
    "    #print(f\"Episode: {episode}, Current avg reward: {np.mean(episodeRewards[-verboseEpisode:])}\")\n",
    "    torch.save(target_net.state_dict(), 'models/model_'+str(episode)+'.pt')\n",
    "\n",
    "with open('stats.pkl', 'wb') as f:\n",
    "  pickle.dump(stats, f)\n"
   ]
  }
 ],
 "metadata": {
  "accelerator": "GPU",
  "colab": {
   "gpuType": "T4",
   "provenance": []
  },
  "kernelspec": {
   "display_name": "rl",
   "language": "python",
   "name": "python3"
  },
  "language_info": {
   "codemirror_mode": {
    "name": "ipython",
    "version": 3
   },
   "file_extension": ".py",
   "mimetype": "text/x-python",
   "name": "python",
   "nbconvert_exporter": "python",
   "pygments_lexer": "ipython3",
   "version": "3.10.0"
  }
 },
 "nbformat": 4,
 "nbformat_minor": 0
}
