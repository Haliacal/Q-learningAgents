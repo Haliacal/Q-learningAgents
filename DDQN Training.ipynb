{
 "cells": [
  {
   "cell_type": "code",
   "execution_count": 1,
   "metadata": {
    "id": "h0x-2eDo0BjB"
   },
   "outputs": [],
   "source": [
    "import math\n",
    "import random\n",
    "import numpy as np\n",
    "from collections import deque\n",
    "import time\n",
    "\n",
    "import gymnasium as gym\n",
    "from gymnasium.wrappers import FrameStackObservation as FrameStack\n",
    "from gymnasium.wrappers import AtariPreprocessing\n",
    "from gymnasium.wrappers import NumpyToTorch\n",
    "from gymnasium.wrappers import RecordEpisodeStatistics\n",
    "\n",
    "\n",
    "import matplotlib\n",
    "import matplotlib.pyplot as plt\n",
    "from PIL import Image\n",
    "\n",
    "import torch\n",
    "import torch.nn as nn\n",
    "import torch.optim as optim\n",
    "import torch.nn.functional as F\n",
    "import torchvision.transforms as T\n",
    "from collections import namedtuple, deque\n",
    "from operator import itemgetter\n",
    "\n",
    "import ale_py"
   ]
  },
  {
   "cell_type": "code",
   "execution_count": 2,
   "metadata": {
    "id": "HEGJ7ADy0BjE"
   },
   "outputs": [],
   "source": [
    "# if GPU is to be used\n",
    "device = torch.device(\n",
    "    \"cuda\" if torch.cuda.is_available() else\n",
    "    \"mps\" if torch.backends.mps.is_available() else\n",
    "    \"cpu\"\n",
    ")"
   ]
  },
  {
   "cell_type": "code",
   "execution_count": 3,
   "metadata": {
    "id": "PzlvTaW40BjF"
   },
   "outputs": [],
   "source": [
    "frames_stacked = 4\n",
    "\n",
    "gym.register_envs(ale_py)\n",
    "\n",
    "#game = \"ALE/Breakout-v5\"\n",
    "game = \"ALE/Pong-v5\"\n",
    "\n",
    "terminal_on_life_loss = False\n",
    "scale_obs = True\n",
    "\n",
    "env = NumpyToTorch(FrameStack(AtariPreprocessing(RecordEpisodeStatistics(gym.make(game)), frame_skip=1, terminal_on_life_loss=terminal_on_life_loss, scale_obs=scale_obs), frames_stacked), device=device)\n",
    "\n",
    "num_actions = env.action_space.n\n",
    "frame_shape = env.observation_space.shape"
   ]
  },
  {
   "cell_type": "code",
   "execution_count": 4,
   "metadata": {
    "id": "6U2kTBCA0BjF"
   },
   "outputs": [],
   "source": [
    "class DQN(nn.Module):\n",
    "    def __init__(self, input_shape, num_outputs):\n",
    "        super(DQN, self).__init__()\n",
    "\n",
    "        self.input_shape = input_shape\n",
    "        self.num_outputs = num_outputs\n",
    "\n",
    "        self.conv_layers = nn.Sequential(\n",
    "            nn.Conv2d(self.input_shape[0], 32, kernel_size=8, stride=4),\n",
    "            nn.BatchNorm2d(32),\n",
    "            nn.ReLU(),\n",
    "            nn.Conv2d(32, 64, kernel_size=4, stride=2),\n",
    "            nn.BatchNorm2d(64),\n",
    "            nn.ReLU(),\n",
    "            nn.Conv2d(64, 64, kernel_size=3, stride=1),\n",
    "            nn.BatchNorm2d(64),\n",
    "            nn.ReLU(),\n",
    "        )\n",
    "\n",
    "        conv_output_len = int(np.prod(self.conv_layers(torch.zeros(1, *input_shape)).size()))\n",
    "\n",
    "        self.fc_layers = nn.Sequential(\n",
    "            nn.Linear(conv_output_len,512),\n",
    "            nn.ReLU(),\n",
    "            nn.Linear(512,256),\n",
    "            nn.ReLU(),\n",
    "            nn.Linear(256, self.num_outputs)\n",
    "        )\n",
    "        conv_test = self.conv_layers(torch.zeros(1, *input_shape))\n",
    "\n",
    "    def forward(self, x):\n",
    "\n",
    "        conv_out = self.conv_layers(x)\n",
    "        return self.fc_layers(conv_out.flatten(1))"
   ]
  },
  {
   "cell_type": "code",
   "execution_count": 5,
   "metadata": {
    "id": "thEu_49S0BjF"
   },
   "outputs": [],
   "source": [
    "args = env.reset()\n",
    "state = args[0]\n",
    "input_shape = state.shape"
   ]
  },
  {
   "cell_type": "code",
   "execution_count": 6,
   "metadata": {
    "colab": {
     "base_uri": "https://localhost:8080/",
     "height": 450
    },
    "id": "1VSVKCQL0BjG",
    "outputId": "ab65469d-4e94-4f9f-85b6-90963eb72705"
   },
   "outputs": [
    {
     "data": {
      "text/plain": [
       "<matplotlib.image.AxesImage at 0x1808edec700>"
      ]
     },
     "execution_count": 6,
     "metadata": {},
     "output_type": "execute_result"
    },
    {
     "data": {
      "image/png": "[encoded data removed]",
      "text/plain": [
       "<Figure size 640x480 with 1 Axes>"
      ]
     },
     "metadata": {},
     "output_type": "display_data"
    }
   ],
   "source": [
    "for _ in range(10): state, *_ = env.step(1)\n",
    "plt.imshow(state[3].cpu().numpy())"
   ]
  },
  {
   "cell_type": "code",
   "execution_count": 7,
   "metadata": {
    "colab": {
     "base_uri": "https://localhost:8080/"
    },
    "id": "KASJ1IZI0BjH",
    "outputId": "5748aeed-4496-4b1f-b9a2-c43f7c125c8d"
   },
   "outputs": [
    {
     "data": {
      "text/plain": [
       "tensor([[ 0.0516, -0.0602,  0.0273, -0.0215, -0.0132,  0.1484]])"
      ]
     },
     "execution_count": 7,
     "metadata": {},
     "output_type": "execute_result"
    }
   ],
   "source": [
    "model = DQN(input_shape=input_shape, num_outputs=num_actions)\n",
    "\n",
    "# Create policy and target network.\n",
    "policy_net = DQN(input_shape=input_shape, num_outputs=num_actions).to(device)\n",
    "target_net = DQN(input_shape=input_shape, num_outputs=num_actions).to(device)\n",
    "\n",
    "target_net.load_state_dict(policy_net.state_dict())\n",
    "\n",
    "with torch.no_grad():\n",
    "    stateValues = policy_net(state.unsqueeze(0))\n",
    "\n",
    "stateValues"
   ]
  },
  {
   "cell_type": "code",
   "execution_count": 8,
   "metadata": {
    "id": "f9AuCwJ20BjH"
   },
   "outputs": [],
   "source": [
    "# Hyperparameters\n",
    "alpha = 1e-4  # learning rate\n",
    "gamma = 0.99 # Discount fator\n",
    "\n",
    "# Optimiser and loss function\n",
    "optimiser = optim.Adam(policy_net.parameters(), lr=alpha, amsgrad=True)"
   ]
  },
  {
   "cell_type": "code",
   "execution_count": null,
   "metadata": {
    "id": "6RI9YS_q0BjH"
   },
   "outputs": [],
   "source": [
    "Transition = namedtuple('Transition', ('state', 'action', 'reward', 'next_state'))\n",
    "class ReplayMemory(object):\n",
    "\n",
    "    def __init__(self, capacity, batchSize):\n",
    "        self.maxCapacity = capacity\n",
    "        self.memory = deque([], maxlen=capacity)\n",
    "        self.batchSize = batchSize\n",
    "\n",
    "    def push(self, state, action, reward, nextState):\n",
    "        self.memory.append(Transition(state, action, reward, nextState))\n",
    "\n",
    "    def sample(self):\n",
    "        return random.sample(self.memory, self.batchSize)\n",
    "\n",
    "    def replay(self):\n",
    "\n",
    "        if(len(self.memory) < self.batchSize): return\n",
    "\n",
    "        minibatch = self.sample()\n",
    "\n",
    "        batch = Transition(*zip(*minibatch))\n",
    "\n",
    "        non_final_mask = torch.tensor(tuple(map(lambda s: s is not None, batch.next_state)), device=device, dtype=torch.bool)\n",
    "\n",
    "        non_final_next_states = torch.cat([s for s in batch.next_state if s is not None]).to(device)\n",
    "        state_batch = torch.cat(batch.state).to(device)\n",
    "        action_batch = torch.cat(batch.action).to(device)\n",
    "        reward_batch = torch.cat(batch.reward).to(device)\n",
    "\n",
    "        next_state_values = torch.zeros(self.batchSize, device=device)\n",
    "        policy_actions = torch.argmax(policy_net(non_final_next_states), dim=1).unsqueeze(1)\n",
    "\n",
    "        with torch.no_grad():\n",
    "            next_state_values[non_final_mask] = target_net(non_final_next_states).gather(1, policy_actions).squeeze(1)\n",
    "\n",
    "\n",
    "        state_action_values = policy_net(state_batch).gather(1, action_batch)\n",
    "\n",
    "\n",
    "\n",
    "        # Compute the expected Q values\n",
    "        expected_state_action_values = (next_state_values*gamma) + reward_batch\n",
    "\n",
    "\n",
    "        # Compute Huber loss\n",
    "        optimiser.zero_grad()\n",
    "        criterion = nn.HuberLoss()\n",
    "        criterion.sizeAverage = False\n",
    "        loss = criterion(state_action_values, expected_state_action_values.unsqueeze(1))\n",
    "        #loss.requires_grad = True\n",
    "        loss.backward()\n",
    "        \n",
    "        # Register backward hook\n",
    "        for p in policy_net.parameters(): p.grad.data.clamp_(-1, 1)\n",
    "        optimiser.step()\n",
    "\n"
   ]
  },
  {
   "cell_type": "code",
   "execution_count": 25,
   "metadata": {
    "id": "53o57oM00BjI"
   },
   "outputs": [],
   "source": [
    "# Replay memory parameters\n",
    "capacity = 100000\n",
    "batchSize = 32\n",
    "memory = ReplayMemory(capacity=capacity, batchSize=batchSize)"
   ]
  },
  {
   "cell_type": "code",
   "execution_count": 14,
   "metadata": {
    "collapsed": true,
    "id": "9ydtaTrM0BjI"
   },
   "outputs": [
    {
     "name": "stdout",
     "output_type": "stream",
     "text": [
      "tensor(0.0022, grad_fn=<HuberLossBackward0>)\n",
      "tensor(0.0021, grad_fn=<HuberLossBackward0>)\n",
      "tensor(0.0018, grad_fn=<HuberLossBackward0>)\n",
      "tensor(0.0025, grad_fn=<HuberLossBackward0>)\n",
      "tensor(0.0028, grad_fn=<HuberLossBackward0>)\n",
      "tensor(0.0026, grad_fn=<HuberLossBackward0>)\n",
      "tensor(0.0018, grad_fn=<HuberLossBackward0>)\n",
      "tensor(0.0020, grad_fn=<HuberLossBackward0>)\n",
      "tensor(0.0025, grad_fn=<HuberLossBackward0>)\n",
      "tensor(0.0020, grad_fn=<HuberLossBackward0>)\n",
      "tensor(0.0017, grad_fn=<HuberLossBackward0>)\n",
      "tensor(0.0015, grad_fn=<HuberLossBackward0>)\n",
      "tensor(0.0023, grad_fn=<HuberLossBackward0>)\n",
      "tensor(0.0017, grad_fn=<HuberLossBackward0>)\n",
      "tensor(0.0021, grad_fn=<HuberLossBackward0>)\n",
      "tensor(0.0021, grad_fn=<HuberLossBackward0>)\n",
      "tensor(0.0019, grad_fn=<HuberLossBackward0>)\n",
      "tensor(0.0022, grad_fn=<HuberLossBackward0>)\n",
      "tensor(0.0022, grad_fn=<HuberLossBackward0>)\n",
      "tensor(0.0024, grad_fn=<HuberLossBackward0>)\n",
      "tensor(0.0025, grad_fn=<HuberLossBackward0>)\n",
      "tensor(0.0008, grad_fn=<HuberLossBackward0>)\n",
      "tensor(0.0013, grad_fn=<HuberLossBackward0>)\n",
      "tensor(0.0008, grad_fn=<HuberLossBackward0>)\n",
      "tensor(0.0005, grad_fn=<HuberLossBackward0>)\n",
      "tensor(0.0006, grad_fn=<HuberLossBackward0>)\n",
      "tensor(0.0005, grad_fn=<HuberLossBackward0>)\n",
      "tensor(0.0151, grad_fn=<HuberLossBackward0>)\n",
      "tensor(0.0154, grad_fn=<HuberLossBackward0>)\n",
      "tensor(0.0144, grad_fn=<HuberLossBackward0>)\n",
      "tensor(0.0134, grad_fn=<HuberLossBackward0>)\n",
      "tensor(0.0146, grad_fn=<HuberLossBackward0>)\n",
      "tensor(0.0125, grad_fn=<HuberLossBackward0>)\n",
      "tensor(0.0039, grad_fn=<HuberLossBackward0>)\n",
      "tensor(0.0043, grad_fn=<HuberLossBackward0>)\n",
      "tensor(0.0034, grad_fn=<HuberLossBackward0>)\n",
      "tensor(0.0086, grad_fn=<HuberLossBackward0>)\n",
      "tensor(0.0027, grad_fn=<HuberLossBackward0>)\n",
      "tensor(0.0118, grad_fn=<HuberLossBackward0>)\n",
      "tensor(0.0027, grad_fn=<HuberLossBackward0>)\n",
      "tensor(0.0086, grad_fn=<HuberLossBackward0>)\n",
      "tensor(0.0080, grad_fn=<HuberLossBackward0>)\n",
      "tensor(0.0017, grad_fn=<HuberLossBackward0>)\n",
      "tensor(0.0052, grad_fn=<HuberLossBackward0>)\n",
      "tensor(0.0031, grad_fn=<HuberLossBackward0>)\n",
      "tensor(0.0018, grad_fn=<HuberLossBackward0>)\n",
      "tensor(0.0036, grad_fn=<HuberLossBackward0>)\n",
      "tensor(0.0033, grad_fn=<HuberLossBackward0>)\n",
      "tensor(0.0042, grad_fn=<HuberLossBackward0>)\n",
      "tensor(0.0071, grad_fn=<HuberLossBackward0>)\n",
      "tensor(0.0067, grad_fn=<HuberLossBackward0>)\n",
      "tensor(0.0075, grad_fn=<HuberLossBackward0>)\n",
      "tensor(0.0055, grad_fn=<HuberLossBackward0>)\n",
      "tensor(0.0026, grad_fn=<HuberLossBackward0>)\n",
      "tensor(0.0025, grad_fn=<HuberLossBackward0>)\n",
      "tensor(0.0031, grad_fn=<HuberLossBackward0>)\n",
      "tensor(0.0039, grad_fn=<HuberLossBackward0>)\n",
      "tensor(0.0037, grad_fn=<HuberLossBackward0>)\n",
      "tensor(0.0066, grad_fn=<HuberLossBackward0>)\n",
      "tensor(0.0061, grad_fn=<HuberLossBackward0>)\n",
      "tensor(0.0052, grad_fn=<HuberLossBackward0>)\n",
      "tensor(0.0038, grad_fn=<HuberLossBackward0>)\n",
      "tensor(0.0030, grad_fn=<HuberLossBackward0>)\n",
      "tensor(0.0024, grad_fn=<HuberLossBackward0>)\n",
      "tensor(0.0009, grad_fn=<HuberLossBackward0>)\n",
      "tensor(0.0008, grad_fn=<HuberLossBackward0>)\n",
      "tensor(0.0144, grad_fn=<HuberLossBackward0>)\n",
      "tensor(0.0029, grad_fn=<HuberLossBackward0>)\n",
      "tensor(0.0147, grad_fn=<HuberLossBackward0>)\n",
      "tensor(0.0039, grad_fn=<HuberLossBackward0>)\n",
      "tensor(0.0154, grad_fn=<HuberLossBackward0>)\n",
      "tensor(0.0026, grad_fn=<HuberLossBackward0>)\n",
      "tensor(0.0173, grad_fn=<HuberLossBackward0>)\n",
      "tensor(0.0010, grad_fn=<HuberLossBackward0>)\n",
      "tensor(0.0057, grad_fn=<HuberLossBackward0>)\n",
      "tensor(0.0027, grad_fn=<HuberLossBackward0>)\n",
      "tensor(0.0027, grad_fn=<HuberLossBackward0>)\n",
      "tensor(0.0016, grad_fn=<HuberLossBackward0>)\n",
      "tensor(0.0017, grad_fn=<HuberLossBackward0>)\n",
      "tensor(0.0014, grad_fn=<HuberLossBackward0>)\n",
      "tensor(0.0138, grad_fn=<HuberLossBackward0>)\n",
      "tensor(0.0018, grad_fn=<HuberLossBackward0>)\n",
      "tensor(0.0006, grad_fn=<HuberLossBackward0>)\n",
      "tensor(0.0126, grad_fn=<HuberLossBackward0>)\n",
      "tensor(0.0023, grad_fn=<HuberLossBackward0>)\n"
     ]
    },
    {
     "ename": "KeyboardInterrupt",
     "evalue": "",
     "output_type": "error",
     "traceback": [
      "\u001b[1;31m---------------------------------------------------------------------------\u001b[0m",
      "\u001b[1;31mKeyboardInterrupt\u001b[0m                         Traceback (most recent call last)",
      "Cell \u001b[1;32mIn[14], line 50\u001b[0m\n\u001b[0;32m     46\u001b[0m rewards \u001b[38;5;241m+\u001b[39m\u001b[38;5;241m=\u001b[39m reward\n\u001b[0;32m     47\u001b[0m memory\u001b[38;5;241m.\u001b[39mpush(state, action, torch\u001b[38;5;241m.\u001b[39mtensor([reward], device\u001b[38;5;241m=\u001b[39mdevice), nextState)\n\u001b[1;32m---> 50\u001b[0m \u001b[43mmemory\u001b[49m\u001b[38;5;241;43m.\u001b[39;49m\u001b[43mreplay\u001b[49m\u001b[43m(\u001b[49m\u001b[43m)\u001b[49m\n\u001b[0;32m     52\u001b[0m state \u001b[38;5;241m=\u001b[39m nextState\n\u001b[0;32m     54\u001b[0m \u001b[38;5;28;01mif\u001b[39;00m(steps\u001b[38;5;241m%\u001b[39mupdateEvery \u001b[38;5;241m==\u001b[39m \u001b[38;5;241m0\u001b[39m): target_net\u001b[38;5;241m.\u001b[39mload_state_dict(policy_net\u001b[38;5;241m.\u001b[39mstate_dict())\n",
      "Cell \u001b[1;32mIn[12], line 31\u001b[0m, in \u001b[0;36mReplayMemory.replay\u001b[1;34m(self)\u001b[0m\n\u001b[0;32m     28\u001b[0m reward_batch \u001b[38;5;241m=\u001b[39m torch\u001b[38;5;241m.\u001b[39mcat(batch\u001b[38;5;241m.\u001b[39mreward)\u001b[38;5;241m.\u001b[39mto(device)\n\u001b[0;32m     30\u001b[0m next_state_values \u001b[38;5;241m=\u001b[39m torch\u001b[38;5;241m.\u001b[39mzeros(\u001b[38;5;28mself\u001b[39m\u001b[38;5;241m.\u001b[39mbatchSize, device\u001b[38;5;241m=\u001b[39mdevice)\n\u001b[1;32m---> 31\u001b[0m policy_actions \u001b[38;5;241m=\u001b[39m torch\u001b[38;5;241m.\u001b[39margmax(\u001b[43mpolicy_net\u001b[49m\u001b[43m(\u001b[49m\u001b[43mnon_final_next_states\u001b[49m\u001b[43m)\u001b[49m, dim\u001b[38;5;241m=\u001b[39m\u001b[38;5;241m1\u001b[39m)\u001b[38;5;241m.\u001b[39munsqueeze(\u001b[38;5;241m1\u001b[39m)\n\u001b[0;32m     33\u001b[0m \u001b[38;5;28;01mwith\u001b[39;00m torch\u001b[38;5;241m.\u001b[39mno_grad():\n\u001b[0;32m     34\u001b[0m     next_state_values[non_final_mask] \u001b[38;5;241m=\u001b[39m target_net(non_final_next_states)\u001b[38;5;241m.\u001b[39mgather(\u001b[38;5;241m1\u001b[39m, policy_actions)\u001b[38;5;241m.\u001b[39msqueeze(\u001b[38;5;241m1\u001b[39m)\n",
      "File \u001b[1;32mc:\\Users\\joshu\\anaconda3\\envs\\rl\\lib\\site-packages\\torch\\nn\\modules\\module.py:1736\u001b[0m, in \u001b[0;36mModule._wrapped_call_impl\u001b[1;34m(self, *args, **kwargs)\u001b[0m\n\u001b[0;32m   1734\u001b[0m     \u001b[38;5;28;01mreturn\u001b[39;00m \u001b[38;5;28mself\u001b[39m\u001b[38;5;241m.\u001b[39m_compiled_call_impl(\u001b[38;5;241m*\u001b[39margs, \u001b[38;5;241m*\u001b[39m\u001b[38;5;241m*\u001b[39mkwargs)  \u001b[38;5;66;03m# type: ignore[misc]\u001b[39;00m\n\u001b[0;32m   1735\u001b[0m \u001b[38;5;28;01melse\u001b[39;00m:\n\u001b[1;32m-> 1736\u001b[0m     \u001b[38;5;28;01mreturn\u001b[39;00m \u001b[38;5;28mself\u001b[39m\u001b[38;5;241m.\u001b[39m_call_impl(\u001b[38;5;241m*\u001b[39margs, \u001b[38;5;241m*\u001b[39m\u001b[38;5;241m*\u001b[39mkwargs)\n",
      "File \u001b[1;32mc:\\Users\\joshu\\anaconda3\\envs\\rl\\lib\\site-packages\\torch\\nn\\modules\\module.py:1747\u001b[0m, in \u001b[0;36mModule._call_impl\u001b[1;34m(self, *args, **kwargs)\u001b[0m\n\u001b[0;32m   1742\u001b[0m \u001b[38;5;66;03m# If we don't have any hooks, we want to skip the rest of the logic in\u001b[39;00m\n\u001b[0;32m   1743\u001b[0m \u001b[38;5;66;03m# this function, and just call forward.\u001b[39;00m\n\u001b[0;32m   1744\u001b[0m \u001b[38;5;28;01mif\u001b[39;00m \u001b[38;5;129;01mnot\u001b[39;00m (\u001b[38;5;28mself\u001b[39m\u001b[38;5;241m.\u001b[39m_backward_hooks \u001b[38;5;129;01mor\u001b[39;00m \u001b[38;5;28mself\u001b[39m\u001b[38;5;241m.\u001b[39m_backward_pre_hooks \u001b[38;5;129;01mor\u001b[39;00m \u001b[38;5;28mself\u001b[39m\u001b[38;5;241m.\u001b[39m_forward_hooks \u001b[38;5;129;01mor\u001b[39;00m \u001b[38;5;28mself\u001b[39m\u001b[38;5;241m.\u001b[39m_forward_pre_hooks\n\u001b[0;32m   1745\u001b[0m         \u001b[38;5;129;01mor\u001b[39;00m _global_backward_pre_hooks \u001b[38;5;129;01mor\u001b[39;00m _global_backward_hooks\n\u001b[0;32m   1746\u001b[0m         \u001b[38;5;129;01mor\u001b[39;00m _global_forward_hooks \u001b[38;5;129;01mor\u001b[39;00m _global_forward_pre_hooks):\n\u001b[1;32m-> 1747\u001b[0m     \u001b[38;5;28;01mreturn\u001b[39;00m forward_call(\u001b[38;5;241m*\u001b[39margs, \u001b[38;5;241m*\u001b[39m\u001b[38;5;241m*\u001b[39mkwargs)\n\u001b[0;32m   1749\u001b[0m result \u001b[38;5;241m=\u001b[39m \u001b[38;5;28;01mNone\u001b[39;00m\n\u001b[0;32m   1750\u001b[0m called_always_called_hooks \u001b[38;5;241m=\u001b[39m \u001b[38;5;28mset\u001b[39m()\n",
      "Cell \u001b[1;32mIn[4], line 33\u001b[0m, in \u001b[0;36mDQN.forward\u001b[1;34m(self, x)\u001b[0m\n\u001b[0;32m     31\u001b[0m \u001b[38;5;28;01mdef\u001b[39;00m \u001b[38;5;21mforward\u001b[39m(\u001b[38;5;28mself\u001b[39m, x):\n\u001b[1;32m---> 33\u001b[0m     conv_out \u001b[38;5;241m=\u001b[39m \u001b[38;5;28;43mself\u001b[39;49m\u001b[38;5;241;43m.\u001b[39;49m\u001b[43mconv_layers\u001b[49m\u001b[43m(\u001b[49m\u001b[43mx\u001b[49m\u001b[43m)\u001b[49m\n\u001b[0;32m     34\u001b[0m     \u001b[38;5;28;01mreturn\u001b[39;00m \u001b[38;5;28mself\u001b[39m\u001b[38;5;241m.\u001b[39mfc_layers(conv_out\u001b[38;5;241m.\u001b[39mflatten(\u001b[38;5;241m1\u001b[39m))\n",
      "File \u001b[1;32mc:\\Users\\joshu\\anaconda3\\envs\\rl\\lib\\site-packages\\torch\\nn\\modules\\module.py:1736\u001b[0m, in \u001b[0;36mModule._wrapped_call_impl\u001b[1;34m(self, *args, **kwargs)\u001b[0m\n\u001b[0;32m   1734\u001b[0m     \u001b[38;5;28;01mreturn\u001b[39;00m \u001b[38;5;28mself\u001b[39m\u001b[38;5;241m.\u001b[39m_compiled_call_impl(\u001b[38;5;241m*\u001b[39margs, \u001b[38;5;241m*\u001b[39m\u001b[38;5;241m*\u001b[39mkwargs)  \u001b[38;5;66;03m# type: ignore[misc]\u001b[39;00m\n\u001b[0;32m   1735\u001b[0m \u001b[38;5;28;01melse\u001b[39;00m:\n\u001b[1;32m-> 1736\u001b[0m     \u001b[38;5;28;01mreturn\u001b[39;00m \u001b[38;5;28mself\u001b[39m\u001b[38;5;241m.\u001b[39m_call_impl(\u001b[38;5;241m*\u001b[39margs, \u001b[38;5;241m*\u001b[39m\u001b[38;5;241m*\u001b[39mkwargs)\n",
      "File \u001b[1;32mc:\\Users\\joshu\\anaconda3\\envs\\rl\\lib\\site-packages\\torch\\nn\\modules\\module.py:1747\u001b[0m, in \u001b[0;36mModule._call_impl\u001b[1;34m(self, *args, **kwargs)\u001b[0m\n\u001b[0;32m   1742\u001b[0m \u001b[38;5;66;03m# If we don't have any hooks, we want to skip the rest of the logic in\u001b[39;00m\n\u001b[0;32m   1743\u001b[0m \u001b[38;5;66;03m# this function, and just call forward.\u001b[39;00m\n\u001b[0;32m   1744\u001b[0m \u001b[38;5;28;01mif\u001b[39;00m \u001b[38;5;129;01mnot\u001b[39;00m (\u001b[38;5;28mself\u001b[39m\u001b[38;5;241m.\u001b[39m_backward_hooks \u001b[38;5;129;01mor\u001b[39;00m \u001b[38;5;28mself\u001b[39m\u001b[38;5;241m.\u001b[39m_backward_pre_hooks \u001b[38;5;129;01mor\u001b[39;00m \u001b[38;5;28mself\u001b[39m\u001b[38;5;241m.\u001b[39m_forward_hooks \u001b[38;5;129;01mor\u001b[39;00m \u001b[38;5;28mself\u001b[39m\u001b[38;5;241m.\u001b[39m_forward_pre_hooks\n\u001b[0;32m   1745\u001b[0m         \u001b[38;5;129;01mor\u001b[39;00m _global_backward_pre_hooks \u001b[38;5;129;01mor\u001b[39;00m _global_backward_hooks\n\u001b[0;32m   1746\u001b[0m         \u001b[38;5;129;01mor\u001b[39;00m _global_forward_hooks \u001b[38;5;129;01mor\u001b[39;00m _global_forward_pre_hooks):\n\u001b[1;32m-> 1747\u001b[0m     \u001b[38;5;28;01mreturn\u001b[39;00m forward_call(\u001b[38;5;241m*\u001b[39margs, \u001b[38;5;241m*\u001b[39m\u001b[38;5;241m*\u001b[39mkwargs)\n\u001b[0;32m   1749\u001b[0m result \u001b[38;5;241m=\u001b[39m \u001b[38;5;28;01mNone\u001b[39;00m\n\u001b[0;32m   1750\u001b[0m called_always_called_hooks \u001b[38;5;241m=\u001b[39m \u001b[38;5;28mset\u001b[39m()\n",
      "File \u001b[1;32mc:\\Users\\joshu\\anaconda3\\envs\\rl\\lib\\site-packages\\torch\\nn\\modules\\container.py:250\u001b[0m, in \u001b[0;36mSequential.forward\u001b[1;34m(self, input)\u001b[0m\n\u001b[0;32m    248\u001b[0m \u001b[38;5;28;01mdef\u001b[39;00m \u001b[38;5;21mforward\u001b[39m(\u001b[38;5;28mself\u001b[39m, \u001b[38;5;28minput\u001b[39m):\n\u001b[0;32m    249\u001b[0m     \u001b[38;5;28;01mfor\u001b[39;00m module \u001b[38;5;129;01min\u001b[39;00m \u001b[38;5;28mself\u001b[39m:\n\u001b[1;32m--> 250\u001b[0m         \u001b[38;5;28minput\u001b[39m \u001b[38;5;241m=\u001b[39m \u001b[43mmodule\u001b[49m\u001b[43m(\u001b[49m\u001b[38;5;28;43minput\u001b[39;49m\u001b[43m)\u001b[49m\n\u001b[0;32m    251\u001b[0m     \u001b[38;5;28;01mreturn\u001b[39;00m \u001b[38;5;28minput\u001b[39m\n",
      "File \u001b[1;32mc:\\Users\\joshu\\anaconda3\\envs\\rl\\lib\\site-packages\\torch\\nn\\modules\\module.py:1736\u001b[0m, in \u001b[0;36mModule._wrapped_call_impl\u001b[1;34m(self, *args, **kwargs)\u001b[0m\n\u001b[0;32m   1734\u001b[0m     \u001b[38;5;28;01mreturn\u001b[39;00m \u001b[38;5;28mself\u001b[39m\u001b[38;5;241m.\u001b[39m_compiled_call_impl(\u001b[38;5;241m*\u001b[39margs, \u001b[38;5;241m*\u001b[39m\u001b[38;5;241m*\u001b[39mkwargs)  \u001b[38;5;66;03m# type: ignore[misc]\u001b[39;00m\n\u001b[0;32m   1735\u001b[0m \u001b[38;5;28;01melse\u001b[39;00m:\n\u001b[1;32m-> 1736\u001b[0m     \u001b[38;5;28;01mreturn\u001b[39;00m \u001b[38;5;28mself\u001b[39m\u001b[38;5;241m.\u001b[39m_call_impl(\u001b[38;5;241m*\u001b[39margs, \u001b[38;5;241m*\u001b[39m\u001b[38;5;241m*\u001b[39mkwargs)\n",
      "File \u001b[1;32mc:\\Users\\joshu\\anaconda3\\envs\\rl\\lib\\site-packages\\torch\\nn\\modules\\module.py:1747\u001b[0m, in \u001b[0;36mModule._call_impl\u001b[1;34m(self, *args, **kwargs)\u001b[0m\n\u001b[0;32m   1742\u001b[0m \u001b[38;5;66;03m# If we don't have any hooks, we want to skip the rest of the logic in\u001b[39;00m\n\u001b[0;32m   1743\u001b[0m \u001b[38;5;66;03m# this function, and just call forward.\u001b[39;00m\n\u001b[0;32m   1744\u001b[0m \u001b[38;5;28;01mif\u001b[39;00m \u001b[38;5;129;01mnot\u001b[39;00m (\u001b[38;5;28mself\u001b[39m\u001b[38;5;241m.\u001b[39m_backward_hooks \u001b[38;5;129;01mor\u001b[39;00m \u001b[38;5;28mself\u001b[39m\u001b[38;5;241m.\u001b[39m_backward_pre_hooks \u001b[38;5;129;01mor\u001b[39;00m \u001b[38;5;28mself\u001b[39m\u001b[38;5;241m.\u001b[39m_forward_hooks \u001b[38;5;129;01mor\u001b[39;00m \u001b[38;5;28mself\u001b[39m\u001b[38;5;241m.\u001b[39m_forward_pre_hooks\n\u001b[0;32m   1745\u001b[0m         \u001b[38;5;129;01mor\u001b[39;00m _global_backward_pre_hooks \u001b[38;5;129;01mor\u001b[39;00m _global_backward_hooks\n\u001b[0;32m   1746\u001b[0m         \u001b[38;5;129;01mor\u001b[39;00m _global_forward_hooks \u001b[38;5;129;01mor\u001b[39;00m _global_forward_pre_hooks):\n\u001b[1;32m-> 1747\u001b[0m     \u001b[38;5;28;01mreturn\u001b[39;00m forward_call(\u001b[38;5;241m*\u001b[39margs, \u001b[38;5;241m*\u001b[39m\u001b[38;5;241m*\u001b[39mkwargs)\n\u001b[0;32m   1749\u001b[0m result \u001b[38;5;241m=\u001b[39m \u001b[38;5;28;01mNone\u001b[39;00m\n\u001b[0;32m   1750\u001b[0m called_always_called_hooks \u001b[38;5;241m=\u001b[39m \u001b[38;5;28mset\u001b[39m()\n",
      "File \u001b[1;32mc:\\Users\\joshu\\anaconda3\\envs\\rl\\lib\\site-packages\\torch\\nn\\modules\\conv.py:554\u001b[0m, in \u001b[0;36mConv2d.forward\u001b[1;34m(self, input)\u001b[0m\n\u001b[0;32m    553\u001b[0m \u001b[38;5;28;01mdef\u001b[39;00m \u001b[38;5;21mforward\u001b[39m(\u001b[38;5;28mself\u001b[39m, \u001b[38;5;28minput\u001b[39m: Tensor) \u001b[38;5;241m-\u001b[39m\u001b[38;5;241m>\u001b[39m Tensor:\n\u001b[1;32m--> 554\u001b[0m     \u001b[38;5;28;01mreturn\u001b[39;00m \u001b[38;5;28;43mself\u001b[39;49m\u001b[38;5;241;43m.\u001b[39;49m\u001b[43m_conv_forward\u001b[49m\u001b[43m(\u001b[49m\u001b[38;5;28;43minput\u001b[39;49m\u001b[43m,\u001b[49m\u001b[43m \u001b[49m\u001b[38;5;28;43mself\u001b[39;49m\u001b[38;5;241;43m.\u001b[39;49m\u001b[43mweight\u001b[49m\u001b[43m,\u001b[49m\u001b[43m \u001b[49m\u001b[38;5;28;43mself\u001b[39;49m\u001b[38;5;241;43m.\u001b[39;49m\u001b[43mbias\u001b[49m\u001b[43m)\u001b[49m\n",
      "File \u001b[1;32mc:\\Users\\joshu\\anaconda3\\envs\\rl\\lib\\site-packages\\torch\\nn\\modules\\conv.py:549\u001b[0m, in \u001b[0;36mConv2d._conv_forward\u001b[1;34m(self, input, weight, bias)\u001b[0m\n\u001b[0;32m    537\u001b[0m \u001b[38;5;28;01mif\u001b[39;00m \u001b[38;5;28mself\u001b[39m\u001b[38;5;241m.\u001b[39mpadding_mode \u001b[38;5;241m!=\u001b[39m \u001b[38;5;124m\"\u001b[39m\u001b[38;5;124mzeros\u001b[39m\u001b[38;5;124m\"\u001b[39m:\n\u001b[0;32m    538\u001b[0m     \u001b[38;5;28;01mreturn\u001b[39;00m F\u001b[38;5;241m.\u001b[39mconv2d(\n\u001b[0;32m    539\u001b[0m         F\u001b[38;5;241m.\u001b[39mpad(\n\u001b[0;32m    540\u001b[0m             \u001b[38;5;28minput\u001b[39m, \u001b[38;5;28mself\u001b[39m\u001b[38;5;241m.\u001b[39m_reversed_padding_repeated_twice, mode\u001b[38;5;241m=\u001b[39m\u001b[38;5;28mself\u001b[39m\u001b[38;5;241m.\u001b[39mpadding_mode\n\u001b[1;32m   (...)\u001b[0m\n\u001b[0;32m    547\u001b[0m         \u001b[38;5;28mself\u001b[39m\u001b[38;5;241m.\u001b[39mgroups,\n\u001b[0;32m    548\u001b[0m     )\n\u001b[1;32m--> 549\u001b[0m \u001b[38;5;28;01mreturn\u001b[39;00m \u001b[43mF\u001b[49m\u001b[38;5;241;43m.\u001b[39;49m\u001b[43mconv2d\u001b[49m\u001b[43m(\u001b[49m\n\u001b[0;32m    550\u001b[0m \u001b[43m    \u001b[49m\u001b[38;5;28;43minput\u001b[39;49m\u001b[43m,\u001b[49m\u001b[43m \u001b[49m\u001b[43mweight\u001b[49m\u001b[43m,\u001b[49m\u001b[43m \u001b[49m\u001b[43mbias\u001b[49m\u001b[43m,\u001b[49m\u001b[43m \u001b[49m\u001b[38;5;28;43mself\u001b[39;49m\u001b[38;5;241;43m.\u001b[39;49m\u001b[43mstride\u001b[49m\u001b[43m,\u001b[49m\u001b[43m \u001b[49m\u001b[38;5;28;43mself\u001b[39;49m\u001b[38;5;241;43m.\u001b[39;49m\u001b[43mpadding\u001b[49m\u001b[43m,\u001b[49m\u001b[43m \u001b[49m\u001b[38;5;28;43mself\u001b[39;49m\u001b[38;5;241;43m.\u001b[39;49m\u001b[43mdilation\u001b[49m\u001b[43m,\u001b[49m\u001b[43m \u001b[49m\u001b[38;5;28;43mself\u001b[39;49m\u001b[38;5;241;43m.\u001b[39;49m\u001b[43mgroups\u001b[49m\n\u001b[0;32m    551\u001b[0m \u001b[43m\u001b[49m\u001b[43m)\u001b[49m\n",
      "\u001b[1;31mKeyboardInterrupt\u001b[0m: "
     ]
    }
   ],
   "source": [
    "import os\n",
    "import pickle\n",
    "\n",
    "episodes = 2001\n",
    "verbose = True\n",
    "steps = 0\n",
    "verboseEpisode = 50\n",
    "timesteps = 0\n",
    "updateEvery = 1500\n",
    "\n",
    "EPSILON_START=1.0\n",
    "EPSILON_END=0.02\n",
    "EPSILON_DECAY=10000\n",
    "\n",
    "episodeRewards = []\n",
    "os.makedirs('models', exist_ok=True)\n",
    "stats = {}\n",
    "\n",
    "for episode in range(episodes):\n",
    "  state, _ = env.reset()\n",
    "  rewards = 0\n",
    "  terminated, truncated = False, False\n",
    "  state = state.unsqueeze(0)\n",
    "\n",
    "  while not terminated and not truncated:\n",
    "\n",
    "    epsilon = np.interp(steps, [0, EPSILON_DECAY], [EPSILON_START, EPSILON_END])\n",
    "\n",
    "    # Explore\n",
    "    if(random.uniform(0,1) <= epsilon): action = torch.tensor([[env.action_space.sample()]], device=device)\n",
    "\n",
    "    # Exploit\n",
    "    else:\n",
    "        with torch.no_grad():\n",
    "            q_values = policy_net(state)\n",
    "            action = torch.argmax(policy_net(state), dim=1).unsqueeze(0)\n",
    "\n",
    "    steps += 1\n",
    "\n",
    "    nextState, reward, terminated, truncated, info = env.step(action.item())\n",
    "    nextState = nextState.unsqueeze(0)\n",
    "\n",
    "    if(terminated or truncated):\n",
    "      nextState = None\n",
    "      stats[episode] = info\n",
    "    rewards += reward\n",
    "    memory.push(state, action, torch.tensor([reward], device=device), nextState)\n",
    "\n",
    "\n",
    "    memory.replay()\n",
    "\n",
    "    state = nextState\n",
    "\n",
    "    if(steps%updateEvery == 0): target_net.load_state_dict(policy_net.state_dict())\n",
    "\n",
    "\n",
    "  episodeRewards.append(rewards)\n",
    "  if(verbose and episode%verboseEpisode == 0):\n",
    "    #print(f\"Episode: {episode}, Current avg reward: {np.mean(episodeRewards[-verboseEpisode:])}\")\n",
    "    torch.save(target_net.state_dict(), 'models/model_'+str(episode)+'.pt')\n",
    "\n",
    "with open('stats.pkl', 'wb') as f:\n",
    "  pickle.dump(stats, f)\n"
   ]
  }
 ],
 "metadata": {
  "accelerator": "GPU",
  "colab": {
   "gpuType": "T4",
   "provenance": []
  },
  "kernelspec": {
   "display_name": "rl",
   "language": "python",
   "name": "python3"
  },
  "language_info": {
   "codemirror_mode": {
    "name": "ipython",
    "version": 3
   },
   "file_extension": ".py",
   "mimetype": "text/x-python",
   "name": "python",
   "nbconvert_exporter": "python",
   "pygments_lexer": "ipython3",
   "version": "3.10.0"
  }
 },
 "nbformat": 4,
 "nbformat_minor": 0
}
